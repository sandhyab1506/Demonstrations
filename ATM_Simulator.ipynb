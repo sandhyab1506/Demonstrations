{
  "nbformat": 4,
  "nbformat_minor": 0,
  "metadata": {
    "colab": {
      "provenance": [],
      "authorship_tag": "ABX9TyMsyvjvbQypIHvsKezpwVtA",
      "include_colab_link": true
    },
    "kernelspec": {
      "name": "python3",
      "display_name": "Python 3"
    },
    "language_info": {
      "name": "python"
    }
  },
  "cells": [
    {
      "cell_type": "markdown",
      "metadata": {
        "id": "view-in-github",
        "colab_type": "text"
      },
      "source": [
        "<a href=\"https://colab.research.google.com/github/sandhyab1506/Demonstrations/blob/main/ATM_Simulator.ipynb\" target=\"_parent\"><img src=\"https://colab.research.google.com/assets/colab-badge.svg\" alt=\"Open In Colab\"/></a>"
      ]
    },
    {
      "cell_type": "code",
      "execution_count": 1,
      "metadata": {
        "id": "1N9L-wxMvFnD",
        "colab": {
          "base_uri": "https://localhost:8080/"
        },
        "outputId": "6c984ccf-7a96-4080-ce01-db97dafc9044"
      },
      "outputs": [
        {
          "output_type": "stream",
          "name": "stdout",
          "text": [
            "Please Enter Pin :1234\n",
            "\n",
            "********ATM Menu*******\n",
            "\n",
            "1) Display Balance\n",
            "2) Deposit Money\n",
            "3) Withdraw Money\n",
            "4) Exit\n",
            "\n",
            "Please enter option 1/2/3/4 : 4\n",
            "Thank You for using this ATM. Have a Great Day Ahead.\n"
          ]
        }
      ],
      "source": [
        "\n",
        "#*******************************************************************************************************************************************************************************************************************************************\n",
        "#\n",
        "#   ATM Simulator Project by Sandhya Buddharaju\n",
        "#   Version 1.0\n",
        "#\n",
        "#\n",
        "#\n",
        "#*****************************************************************************************************************************************************************************************************************************************************\n",
        "\n",
        "\n",
        "\n",
        "# predefined functions\n",
        "\n",
        "# Function to display Main Menu for user selection\n",
        "def print_main_menu(main_menu):\n",
        "  print(\"\\n********ATM Menu*******\\n\")\n",
        "  for item in main_menu:\n",
        "    print(str(main_menu.index(item)+1)+\") \"+item)\n",
        "\n",
        "# Function to print the balance\n",
        "def print_balance(current_balance):\n",
        "  print(\"Current Balance : £\",current_balance,\".\")\n",
        "\n",
        "# Fuction to check continue or exit after option selection\n",
        "def continue_option():\n",
        "  option = input(\"\\nDo you wish to continue Y/N :\")\n",
        "  if(option == 'Y' or option == 'y'):\n",
        "    to_continue = True\n",
        "    print_main_menu(main_menu)\n",
        "  elif(option == 'N' or option == 'n'):\n",
        "    print(\"\\n\\nThank You for using ATM today. Have a Great Day Ahead.\")\n",
        "    to_continue = False\n",
        "  else:\n",
        "    print(\" Invalid option entered.\")\n",
        "    to_continue = False\n",
        "  return to_continue\n",
        "\n",
        "# main menu items\n",
        "main_menu = [\"Display Balance\",\"Deposit Money\",\"Withdraw Money\",\"Exit\"]\n",
        "\n",
        "# pre set ATM pin to 1234\n",
        "atm_pin = 1234\n",
        "# pre set Current Balance to £100\n",
        "current_balance = 100\n",
        "\n",
        "user_atm_pin = int(input(\"Please Enter Pin :\"))\n",
        "to_continue = True\n",
        "is_exit = True\n",
        "\n",
        "while(is_exit):\n",
        "  if(user_atm_pin == atm_pin):\n",
        "      print_main_menu(main_menu)\n",
        "      while(to_continue):\n",
        "        option_selection = int(input(\"\\nPlease enter option 1/2/3/4 : \"))\n",
        "        if(option_selection == 1):\n",
        "          print_balance(current_balance)\n",
        "          to_continue = continue_option()\n",
        "\n",
        "        elif(option_selection == 2):\n",
        "          deposit_amount = int(input(\"Please enter amount to deposit : £\"))\n",
        "          current_balance = current_balance + deposit_amount\n",
        "          print(\"Deposit of £\",deposit_amount,\" accepted.\")\n",
        "          print_balance(current_balance)\n",
        "          to_continue = continue_option()\n",
        "\n",
        "        elif(option_selection == 3):\n",
        "          withdraw_amount = int(input(\"Please enter amount to withdraw : £\"))\n",
        "          if(current_balance >= withdraw_amount):\n",
        "            current_balance = current_balance - withdraw_amount\n",
        "            print(\"Please collect your cash £\",withdraw_amount,\".\")\n",
        "            print_balance(current_balance)\n",
        "          else:\n",
        "            print(\"Sorry you do not have sufficient funds in your Account to withdraw £\",withdraw_amount)\n",
        "          to_continue = continue_option()\n",
        "\n",
        "        elif(option_selection == 4):\n",
        "          print(\"Thank You for using this ATM. Have a Great Day Ahead.\")\n",
        "          to_continue = False\n",
        "          is_exit = False\n",
        "        else:\n",
        "          print(\"Please select valid option! \")\n",
        "        is_exit=False\n",
        "  else:\n",
        "    user_atm_pin = int(input(\"PIN number incorrect. Please enter valid PIN:\"))\n",
        "\n"
      ]
    }
  ]
}